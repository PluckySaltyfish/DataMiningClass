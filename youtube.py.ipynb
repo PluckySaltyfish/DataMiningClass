{
 "cells": [
  {
   "cell_type": "markdown",
   "metadata": {},
   "source": [
    "<h1 style=\"text-align:center;vertical-align:middle\">Youtube数据分析与预处理报告</h1>\n",
    "## 数据概览\n",
    "数据给出了不同国家在Youtube上的流行视频的观看情况。"
   ]
  },
  {
   "cell_type": "code",
   "execution_count": 1,
   "metadata": {},
   "outputs": [],
   "source": [
    "%matplotlib inline\n",
    "import numpy as np\n",
    "import pandas as pd\n",
    "def load_data(path,filename):\n",
    "    return pd.read_csv(path + '/' + filename)"
   ]
  },
  {
   "cell_type": "code",
   "execution_count": 5,
   "metadata": {},
   "outputs": [
    {
     "data": {
      "text/plain": [
       "Index(['video_id', 'trending_date', 'title', 'channel_title', 'category_id',\n",
       "       'publish_time', 'tags', 'views', 'likes', 'dislikes', 'comment_count',\n",
       "       'thumbnail_link', 'comments_disabled', 'ratings_disabled',\n",
       "       'video_error_or_removed', 'description'],\n",
       "      dtype='object')"
      ]
     },
     "execution_count": 5,
     "metadata": {},
     "output_type": "execute_result"
    }
   ],
   "source": [
    "root = '../Assignment4/youtube-new'\n",
    "CA_data = load_data(root,'CAvideos.csv')\n",
    "CA_data.columns"
   ]
  },
  {
   "cell_type": "markdown",
   "metadata": {},
   "source": [
    "每行数据包括个列，分别代表：\n",
    "\n",
    "- `video_id` 视频id，唯一属性\n",
    "- `trending_date` 流行时间\n",
    "- `title` 视频标题\n",
    "- `channel_title` 发布频道\n",
    "- `category_id` 类别id（每个国家对应的类别不同）\n",
    "- `publish_time` 发布时间\n",
    "- `tags` 视频标签\n",
    "- `views` 观看数量\n",
    "- `likes` 喜欢数量\n",
    "- `dislikes` 不喜欢数量\n",
    "- `comment_count` 评论数量\n",
    "- `thumbnail_link` 视频链接，唯一属性\n",
    "- `comments_disabled` 是否禁止评论\n",
    "- `ratings_disabled` 是否禁止打分\n",
    "- `video_error_or_removed` 是否错误或删除\n",
    "- `description` 视频描述\n",
    "\n",
    "接下来的内容将区分国家，对以上属性中的数值属性以及有意义的非唯一属性进行数据分析与预处理。"
   ]
  },
  {
   "cell_type": "markdown",
   "metadata": {},
   "source": [
    "## 1 中国(CA)\n",
    "### 1.1 流行时间trending_date(无缺失值)\n",
    "**频率统计**"
   ]
  },
  {
   "cell_type": "code",
   "execution_count": 36,
   "metadata": {},
   "outputs": [
    {
     "data": {
      "text/plain": [
       "17.08.12    200\n",
       "18.06.04    200\n",
       "17.26.12    200\n",
       "18.05.01    200\n",
       "18.08.06    200\n",
       "           ... \n",
       "18.13.02    195\n",
       "18.02.02    195\n",
       "18.31.01    191\n",
       "18.01.02    190\n",
       "18.14.05    171\n",
       "Name: trending_date, Length: 205, dtype: int64"
      ]
     },
     "execution_count": 36,
     "metadata": {},
     "output_type": "execute_result"
    }
   ],
   "source": [
    "freq = CA_data['trending_date'].value_counts()\n",
    "freq"
   ]
  },
  {
   "cell_type": "code",
   "execution_count": 41,
   "metadata": {},
   "outputs": [
    {
     "name": "stdout",
     "output_type": "stream",
     "text": [
      "195:18.02.02 18.13.02 \n",
      "196:18.29.01 \n",
      "197:18.09.03 18.19.03 18.25.04 18.28.02 \n",
      "198:17.07.12 18.06.02 18.15.02 18.19.05 18.23.02 18.24.02 18.27.02 \n",
      "199:17.04.12 17.12.12 17.19.11 17.21.12 17.26.11 17.29.12 18.03.02 18.03.03 18.04.03 18.05.02 18.07.03 18.10.02 18.10.05 18.11.02 18.14.02 18.14.03 18.14.04 18.15.05 18.16.02 18.17.02 18.18.02 18.19.01 18.21.02 18.22.01 18.22.02 18.23.04 18.26.02 18.27.01 18.27.03 18.28.03 18.29.04 \n",
      "200:17.01.12 17.02.12 17.03.12 17.05.12 17.06.12 17.08.12 17.09.12 17.10.12 17.11.12 17.13.12 17.14.11 17.14.12 17.15.11 17.15.12 17.16.11 17.16.12 17.17.11 17.17.12 17.18.11 17.18.12 17.19.12 17.20.11 17.20.12 17.21.11 17.22.11 17.22.12 17.23.11 17.23.12 17.24.11 17.24.12 17.25.11 17.25.12 17.26.12 17.27.11 17.27.12 17.28.11 17.28.12 17.29.11 17.30.11 17.30.12 17.31.12 18.01.01 18.01.03 18.01.04 18.01.05 18.01.06 18.02.01 18.02.03 18.02.04 18.02.05 18.02.06 18.03.01 18.03.04 18.03.05 18.03.06 18.04.01 18.04.02 18.04.04 18.04.05 18.04.06 18.05.01 18.05.03 18.05.04 18.05.05 18.05.06 18.06.01 18.06.03 18.06.04 18.06.05 18.06.06 18.07.01 18.07.02 18.07.04 18.07.05 18.07.06 18.08.01 18.08.02 18.08.03 18.08.05 18.08.06 18.09.01 18.09.02 18.09.05 18.09.06 18.10.03 18.10.06 18.11.03 18.11.05 18.11.06 18.12.01 18.12.02 18.12.03 18.12.05 18.12.06 18.13.01 18.13.03 18.13.05 18.13.06 18.14.01 18.14.06 18.15.01 18.15.03 18.15.04 18.16.01 18.16.03 18.16.04 18.16.05 18.17.01 18.17.03 18.17.04 18.17.05 18.18.01 18.18.03 18.18.04 18.18.05 18.19.02 18.19.04 18.20.01 18.20.02 18.20.03 18.20.04 18.20.05 18.21.01 18.21.03 18.21.04 18.21.05 18.22.03 18.22.04 18.22.05 18.23.01 18.23.03 18.23.05 18.24.01 18.24.03 18.24.04 18.24.05 18.25.01 18.25.02 18.25.03 18.25.05 18.26.01 18.26.03 18.26.04 18.26.05 18.27.04 18.27.05 18.28.01 18.28.04 18.28.05 18.29.03 18.29.05 18.30.01 18.30.03 18.30.04 18.30.05 18.31.03 18.31.05 \n",
      "171:18.14.05 \n",
      "190:18.01.02 \n",
      "191:18.31.01 \n"
     ]
    }
   ],
   "source": [
    "for i in set(freq.values):\n",
    "    print(i,end=':')\n",
    "    for j in list(filter(lambda x : freq[x] == i,sorted(freq.index))):\n",
    "        print(j,end=' ')\n",
    "    print()"
   ]
  },
  {
   "cell_type": "markdown",
   "metadata": {},
   "source": [
    "由以上结果可知（左边为出现频数，右边为日期），大多数流行时间的trending viedo的个数都为200个，其余少数日期的个数为171、190、191、195、196、197、198、199，无缺失值。"
   ]
  },
  {
   "cell_type": "markdown",
   "metadata": {},
   "source": [
    "**频数分布**"
   ]
  },
  {
   "cell_type": "code",
   "execution_count": null,
   "metadata": {},
   "outputs": [],
   "source": []
  }
 ],
 "metadata": {
  "kernelspec": {
   "display_name": "Python 3",
   "language": "python",
   "name": "python3"
  },
  "language_info": {
   "codemirror_mode": {
    "name": "ipython",
    "version": 3
   },
   "file_extension": ".py",
   "mimetype": "text/x-python",
   "name": "python",
   "nbconvert_exporter": "python",
   "pygments_lexer": "ipython3",
   "version": "3.7.6"
  }
 },
 "nbformat": 4,
 "nbformat_minor": 2
}
