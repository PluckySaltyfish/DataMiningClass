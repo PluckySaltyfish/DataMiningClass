{
 "cells": [
  {
   "cell_type": "markdown",
   "metadata": {},
   "source": [
    "<h1 style=\"text-align:center;vertical-align:middle\">Oakland Crime数据分析与预处理报告</h1>\n",
    "\n",
    "## 数据概览\n",
    "\n",
    "数据给出了2011-2016年OakLand的犯罪情况记录。"
   ]
  },
  {
   "cell_type": "code",
   "execution_count": 1,
   "metadata": {},
   "outputs": [],
   "source": [
    "import pandas as pd\n",
    "import numpy as np\n",
    "import crime_helper"
   ]
  },
  {
   "cell_type": "code",
   "execution_count": 2,
   "metadata": {},
   "outputs": [
    {
     "data": {
      "text/plain": [
       "Index(['Agency', 'Create Time', 'Location', 'Area Id', 'Beat', 'Priority',\n",
       "       'Incident Type Id', 'Incident Type Description', 'Event Number',\n",
       "       'Closed Time'],\n",
       "      dtype='object')"
      ]
     },
     "execution_count": 2,
     "metadata": {},
     "output_type": "execute_result"
    }
   ],
   "source": [
    "crime_helper.show_col()"
   ]
  },
  {
   "cell_type": "markdown",
   "metadata": {},
   "source": [
    "每行数据包括10个列，分别代表：\n",
    "\n",
    "- `Agency` 机构名称，所有文件除了缺失值，该属性只有唯一值`OP`,资料及讨论区并没有给出具体含义。\n",
    "- `Create Time` 案件创建时间\n",
    "- `Location` 案件发生地点\n",
    "- `Area ID` 案件发生区域代码\n",
    "- `Beat` 案件发生的巡逻区（Beat为警用术语，用于划分每个警官的巡逻区域，资料来源及地图划分[点这里](https://www.kaggle.com/syncush/where-not-to-live-in-oakland-eda)）\n",
    "- `Priority` 案件优先级，所给所有数据集中，该属性有三个值：\n",
    "   - `1`  \n",
    "   Emergency call which requires immediate response and there is reason to believe that an immediate threat to life exists.(人身安全威胁)\n",
    "   - `2`  \n",
    "   Emergency call which requires immediate response and there exists an immediate and substantial risk of major property loss or damage.（财产安全威胁）   \n",
    "   资料来源[点这里](https://www.kaggle.com/syncush/where-not-to-live-in-oakland-eda)\n",
    "   - `0`  \n",
    "   该值缺少相应的描述，但是所有数据集中只有\"Red Alert Ariplane I\"以及\"OFFICIER NEEDS IMMEDI\"是属于该优先级，估测是优先级高于1和2的优先程度。\n",
    "- `Incident Type ID` 案件类型ID\n",
    "- `Incident Type Description` 案件类型\n",
    "- `Event Number` 案件标号，唯一值\n",
    "- `Closed Time` 案件结束时间\n",
    "\n",
    "接下来的内容将对以上属性中的数值属性，有意义的非唯一标称属性，以及可推导获得的有意义的属性进行数据分析与预处理。"
   ]
  },
  {
   "cell_type": "markdown",
   "metadata": {},
   "source": [
    "### 1 Agency(有缺失值)"
   ]
  },
  {
   "cell_type": "code",
   "execution_count": 3,
   "metadata": {},
   "outputs": [],
   "source": [
    "helper = crime_helper.col_helper()"
   ]
  },
  {
   "cell_type": "code",
   "execution_count": 4,
   "metadata": {
    "scrolled": true
   },
   "outputs": [
    {
     "name": "stdout",
     "output_type": "stream",
     "text": [
      "2011 : 1\n",
      "2012 : 1\n",
      "2013 : 1\n",
      "2014 : 0\n",
      "2015 : 0\n",
      "2016 : 1\n"
     ]
    }
   ],
   "source": [
    "helper.grab_col('Agency')\n",
    "# 缺失值个数\n",
    "n_b = helper.count_none()"
   ]
  },
  {
   "cell_type": "code",
   "execution_count": 5,
   "metadata": {},
   "outputs": [
    {
     "name": "stdout",
     "output_type": "stream",
     "text": [
      "[array(['', '', '   ', '', '', '', '', '', '', ''], dtype=object)]\n",
      "[array(['', '', '', '', '', '', '', '', '', '', ''], dtype=object)]\n",
      "[array(['', '', '      ', '', '', '', '', '', '', ''], dtype=object)]\n",
      "[array(['', '', '      ', '', '', '', '', '', '', ''], dtype=object)]\n"
     ]
    }
   ],
   "source": [
    "# 查询缺失值所在的行值\n",
    "index11,row11 = crime_helper.get_row_index(0,'Agency','')\n",
    "index12,row12 = crime_helper.get_row_index(1,'Agency','')\n",
    "index13,row13 = crime_helper.get_row_index(2,'Agency','')\n",
    "index16,row16 = crime_helper.get_row_index(5,'Agency','')\n",
    "print(row11)\n",
    "print(row12)\n",
    "print(row13)\n",
    "print(row16)"
   ]
  },
  {
   "cell_type": "markdown",
   "metadata": {},
   "source": [
    "可以发现有缺失值所在行的属性均为空值，个人判断其应该是数据文件在上传时，人为查看过，不小心在末尾留了一个空行。对于这种缺失值，直接删除即可。"
   ]
  },
  {
   "cell_type": "code",
   "execution_count": 6,
   "metadata": {},
   "outputs": [
    {
     "name": "stdout",
     "output_type": "stream",
     "text": [
      "2011 : 0\n",
      "2012 : 0\n",
      "2013 : 0\n",
      "2014 : 0\n",
      "2015 : 0\n",
      "2016 : 0\n"
     ]
    }
   ],
   "source": [
    "crime_helper.delete_row(0,index11)\n",
    "crime_helper.delete_row(1,index12)\n",
    "crime_helper.delete_row(2,index13)\n",
    "crime_helper.delete_row(5,index16)\n",
    "helper.grab_col('Agency')\n",
    "# 填补后缺失值个数\n",
    "n_a = helper.count_none()"
   ]
  },
  {
   "cell_type": "code",
   "execution_count": 7,
   "metadata": {},
   "outputs": [
    {
     "data": {
      "image/png": "[encoded data removed]",
      "text/plain": [
       "<Figure size 864x288 with 2 Axes>"
      ]
     },
     "metadata": {
      "needs_background": "light"
     },
     "output_type": "display_data"
    }
   ],
   "source": [
    "#2011年处理前后对比\n",
    "helper.normal_bar(0,12,4,n_b[0],n_a[0],['OP','null'])"
   ]
  },
  {
   "cell_type": "code",
   "execution_count": 8,
   "metadata": {},
   "outputs": [
    {
     "data": {
      "image/png": "[encoded data removed]",
      "text/plain": [
       "<Figure size 864x288 with 2 Axes>"
      ]
     },
     "metadata": {
      "needs_background": "light"
     },
     "output_type": "display_data"
    }
   ],
   "source": [
    "#2012年处理前后对比\n",
    "helper.normal_bar(1,12,4,n_b[1],n_a[1],['OP','null'])"
   ]
  },
  {
   "cell_type": "code",
   "execution_count": 9,
   "metadata": {},
   "outputs": [
    {
     "data": {
      "image/png": "[encoded data removed]",
      "text/plain": [
       "<Figure size 864x288 with 2 Axes>"
      ]
     },
     "metadata": {
      "needs_background": "light"
     },
     "output_type": "display_data"
    }
   ],
   "source": [
    "#2013年处理前后对比\n",
    "helper.normal_bar(2,12,4,n_b[2],n_a[2],['OP','null'])"
   ]
  },
  {
   "cell_type": "code",
   "execution_count": 10,
   "metadata": {
    "scrolled": true
   },
   "outputs": [
    {
     "data": {
      "image/png": "[encoded data removed]",
      "text/plain": [
       "<Figure size 864x288 with 2 Axes>"
      ]
     },
     "metadata": {
      "needs_background": "light"
     },
     "output_type": "display_data"
    }
   ],
   "source": [
    "#2016年处理前后对比\n",
    "helper.normal_bar(5,12,4,n_b[5],n_a[5],['OP','null'])"
   ]
  },
  {
   "cell_type": "markdown",
   "metadata": {},
   "source": [
    "### 2 案件处理时间(有缺失值)\n",
    "\n",
    "该值为用Closed Time - Create Time推导出的数值属性"
   ]
  },
  {
   "cell_type": "code",
   "execution_count": 11,
   "metadata": {},
   "outputs": [],
   "source": [
    "helper.grab_col('Closed Time')"
   ]
  },
  {
   "cell_type": "code",
   "execution_count": 12,
   "metadata": {},
   "outputs": [
    {
     "name": "stdout",
     "output_type": "stream",
     "text": [
      "2011 : 6\n",
      "2012 : 18\n",
      "2013 : 1\n",
      "2014 : 0\n",
      "2015 : 0\n",
      "2016 : 0\n"
     ]
    },
    {
     "data": {
      "text/plain": [
       "[6, 18, 1, 0, 0, 0]"
      ]
     },
     "execution_count": 12,
     "metadata": {},
     "output_type": "execute_result"
    }
   ],
   "source": [
    "helper.count_none('')"
   ]
  },
  {
   "cell_type": "code",
   "execution_count": 13,
   "metadata": {},
   "outputs": [
    {
     "data": {
      "text/plain": [
       "([153870, 153890, 153903, 153906, 153908, 153911],\n",
       " [array(['OP', '2011-11-05T23:50:42.000', '47TH EMBARCADERO WEST ', '1',\n",
       "         '01X', 2, '415', 'DISTURBANCE-DRINKERS', 'LOP111105000928', ''],\n",
       "        dtype=object),\n",
       "  array(['OP', '2011-11-06T00:51:23.000', '47TH OAK GROVE AV', '1', '12Y',\n",
       "         2, 'SECCK', 'SECURITY CHECK', 'LOP111106000032', ''], dtype=object),\n",
       "  array(['OP', '2011-11-06T01:23:47.000', '47TH AV&SANFORD ST ', '2', '35Y',\n",
       "         1, '949', 'SUSPICIOUS VEHICLE', 'LOP111106000048', ''],\n",
       "        dtype=object),\n",
       "  array(['OP', '2011-11-06T01:34:32.000', '47TH GRAND AV ', '1', '14Y', 1,\n",
       "         '242', 'BATTERY', 'LOP111106000050', ''], dtype=object),\n",
       "  array(['OP', '2011-11-06T01:36:53.000', '47TH ST&WOOD ST ', '1', '02Y', 1,\n",
       "         '5150', 'MENTALLY ILL', 'LOP111106000052', ''], dtype=object),\n",
       "  array(['OP', '2011-11-06T01:56:45.000', '47TH ST&BROADWAY  ', '1', '08X',\n",
       "         2, 'SECCK', 'SECURITY CHECK', 'LOP111106000056', ''], dtype=object)])"
      ]
     },
     "execution_count": 13,
     "metadata": {},
     "output_type": "execute_result"
    }
   ],
   "source": [
    "crime_helper.get_row_index(0, 'Closed Time', '')"
   ]
  },
  {
   "cell_type": "markdown",
   "metadata": {},
   "source": [
    "可以发现，在2011以及2012年的数据中Closed Time是有缺失值的，判断原因应该是为结案/忘记录入结束时间,在处理缺失值之前，先暂时将这些值剔除。"
   ]
  },
  {
   "cell_type": "code",
   "execution_count": 14,
   "metadata": {},
   "outputs": [],
   "source": [
    "# 推导案件处理时间time = Close Time - Create Time\n",
    "import datetime\n",
    "def str_to_datetime(s):\n",
    "    date,time = s.split('T')\n",
    "    date = date.split('-')\n",
    "    time = time[:-4].split(':')\n",
    "    date = [int(x) for x in date]\n",
    "    time = [int(x) for x in time]\n",
    "    return datetime.datetime(date[0],date[1],date[2],time[0],time[1],time[2])\n",
    "def time_interval(col1,col2):\n",
    "    start = col1.values;\n",
    "    end = col2.values;\n",
    "    ans = []\n",
    "    for s,e in zip(start,end):\n",
    "        if e == '':\n",
    "            continue\n",
    "        else:\n",
    "            ans.append(int((str_to_datetime(e)-str_to_datetime(s)).seconds/60))\n",
    "    return ans"
   ]
  },
  {
   "cell_type": "code",
   "execution_count": 15,
   "metadata": {},
   "outputs": [],
   "source": [
    "helper.generate_new_col('Create Time','Closed Time',time_interval)"
   ]
  },
  {
   "cell_type": "markdown",
   "metadata": {},
   "source": [
    "**数据摘要**"
   ]
  },
  {
   "cell_type": "code",
   "execution_count": 16,
   "metadata": {},
   "outputs": [
    {
     "name": "stdout",
     "output_type": "stream",
     "text": [
      "Year 2011\n",
      "Min: 0,Q1: 20.0,Q2: 56.0,Q3: 128.0,Max: 1439\n",
      "Year 2012\n",
      "Min: 0,Q1: 23.0,Q2: 64.0,Q3: 148.0,Max: 1439\n",
      "Year 2013\n",
      "Min: 0,Q1: 25.0,Q2: 72.0,Q3: 169.0,Max: 1439\n",
      "Year 2014\n",
      "Min: 0,Q1: 24.0,Q2: 71.0,Q3: 172.0,Max: 1439\n",
      "Year 2015\n",
      "Min: 0,Q1: 21.0,Q2: 66.0,Q3: 161.0,Max: 1439\n",
      "Year 2016\n",
      "Min: 0,Q1: 22.0,Q2: 70.0,Q3: 173.0,Max: 1439\n"
     ]
    }
   ],
   "source": [
    "# 五数概括\n",
    "helper.five_number()"
   ]
  },
  {
   "cell_type": "markdown",
   "metadata": {},
   "source": [
    "**数据分布**"
   ]
  },
  {
   "cell_type": "code",
   "execution_count": 17,
   "metadata": {},
   "outputs": [
    {
     "data": {
      "image/png": "[encoded data removed]",
      "text/plain": [
       "<Figure size 1152x288 with 1 Axes>"
      ]
     },
     "metadata": {
      "needs_background": "light"
     },
     "output_type": "display_data"
    },
    {
     "name": "stdout",
     "output_type": "stream",
     "text": [
      "290.0\n"
     ]
    }
   ],
   "source": [
    "# 盒图\n",
    "# 2011年\n",
    "helper.box(0,16,4,'time interval(min)')"
   ]
  },
  {
   "cell_type": "code",
   "execution_count": 18,
   "metadata": {},
   "outputs": [
    {
     "data": {
      "image/png": "[encoded data removed]",
      "text/plain": [
       "<Figure size 1152x288 with 1 Axes>"
      ]
     },
     "metadata": {
      "needs_background": "light"
     },
     "output_type": "display_data"
    },
    {
     "name": "stdout",
     "output_type": "stream",
     "text": [
      "335.5\n"
     ]
    }
   ],
   "source": [
    "# 2012年\n",
    "helper.box(1,16,4,'time interval(min)')"
   ]
  },
  {
   "cell_type": "code",
   "execution_count": 19,
   "metadata": {},
   "outputs": [
    {
     "data": {
      "image/png": "[encoded data removed]",
      "text/plain": [
       "<Figure size 1152x288 with 1 Axes>"
      ]
     },
     "metadata": {
      "needs_background": "light"
     },
     "output_type": "display_data"
    },
    {
     "name": "stdout",
     "output_type": "stream",
     "text": [
      "385.0\n"
     ]
    }
   ],
   "source": [
    "# 2013年\n",
    "helper.box(2,16,4,'time interval(min)')"
   ]
  },
  {
   "cell_type": "code",
   "execution_count": 20,
   "metadata": {
    "scrolled": true
   },
   "outputs": [
    {
     "data": {
      "image/png": "[encoded data removed]",
      "text/plain": [
       "<Figure size 1152x288 with 1 Axes>"
      ]
     },
     "metadata": {
      "needs_background": "light"
     },
     "output_type": "display_data"
    },
    {
     "name": "stdout",
     "output_type": "stream",
     "text": [
      "394.0\n"
     ]
    }
   ],
   "source": [
    "# 2014年\n",
    "helper.box(3,16,4,'time interval(min)')"
   ]
  },
  {
   "cell_type": "code",
   "execution_count": 21,
   "metadata": {},
   "outputs": [
    {
     "data": {
      "image/png": "[encoded data removed]",
      "text/plain": [
       "<Figure size 1152x288 with 1 Axes>"
      ]
     },
     "metadata": {
      "needs_background": "light"
     },
     "output_type": "display_data"
    },
    {
     "name": "stdout",
     "output_type": "stream",
     "text": [
      "371.0\n"
     ]
    }
   ],
   "source": [
    "# 2015年\n",
    "helper.box(4,16,4,'time interval(min)')"
   ]
  },
  {
   "cell_type": "code",
   "execution_count": 22,
   "metadata": {
    "scrolled": true
   },
   "outputs": [
    {
     "data": {
      "image/png": "[encoded data removed]",
      "text/plain": [
       "<Figure size 1152x288 with 1 Axes>"
      ]
     },
     "metadata": {
      "needs_background": "light"
     },
     "output_type": "display_data"
    },
    {
     "name": "stdout",
     "output_type": "stream",
     "text": [
      "399.5\n"
     ]
    }
   ],
   "source": [
    "# 2016年\n",
    "helper.box(5,16,4,'time interval(min)')"
   ]
  },
  {
   "cell_type": "code",
   "execution_count": 23,
   "metadata": {},
   "outputs": [
    {
     "data": {
      "image/png": "[encoded data removed]",
      "text/plain": [
       "<Figure size 1152x288 with 1 Axes>"
      ]
     },
     "metadata": {
      "needs_background": "light"
     },
     "output_type": "display_data"
    }
   ],
   "source": [
    "# 直方图\n",
    "# 2011年\n",
    "helper.normal_hist(0,16,4,'time interval(min)','quantity')"
   ]
  },
  {
   "cell_type": "code",
   "execution_count": 24,
   "metadata": {},
   "outputs": [
    {
     "data": {
      "image/png": "[encoded data removed]",
      "text/plain": [
       "<Figure size 1152x288 with 1 Axes>"
      ]
     },
     "metadata": {
      "needs_background": "light"
     },
     "output_type": "display_data"
    }
   ],
   "source": [
    "# 2012年\n",
    "helper.normal_hist(1,16,4,'time interval(min)','quantity')"
   ]
  },
  {
   "cell_type": "code",
   "execution_count": 25,
   "metadata": {},
   "outputs": [
    {
     "data": {
      "image/png": "[encoded data removed]",
      "text/plain": [
       "<Figure size 1152x288 with 1 Axes>"
      ]
     },
     "metadata": {
      "needs_background": "light"
     },
     "output_type": "display_data"
    }
   ],
   "source": [
    "# 2013年\n",
    "helper.normal_hist(2,16,4,'time interval(min)','quantity')"
   ]
  },
  {
   "cell_type": "code",
   "execution_count": 26,
   "metadata": {},
   "outputs": [
    {
     "data": {
      "image/png": "[encoded data removed]",
      "text/plain": [
       "<Figure size 1152x288 with 1 Axes>"
      ]
     },
     "metadata": {
      "needs_background": "light"
     },
     "output_type": "display_data"
    }
   ],
   "source": [
    "# 2014年\n",
    "helper.normal_hist(3,16,4,'time interval(min)','quantity')"
   ]
  },
  {
   "cell_type": "code",
   "execution_count": 27,
   "metadata": {},
   "outputs": [
    {
     "data": {
      "image/png": "[encoded data removed]",
      "text/plain": [
       "<Figure size 1152x288 with 1 Axes>"
      ]
     },
     "metadata": {
      "needs_background": "light"
     },
     "output_type": "display_data"
    }
   ],
   "source": [
    "# 2015年\n",
    "helper.normal_hist(4,16,4,'time interval(min)','quantity')"
   ]
  },
  {
   "cell_type": "code",
   "execution_count": 28,
   "metadata": {
    "scrolled": false
   },
   "outputs": [
    {
     "data": {
      "image/png": "[encoded data removed]",
      "text/plain": [
       "<Figure size 1152x288 with 1 Axes>"
      ]
     },
     "metadata": {
      "needs_background": "light"
     },
     "output_type": "display_data"
    }
   ],
   "source": [
    "# 2016年\n",
    "helper.normal_hist(5,16,4,'time interval(min)','quantity')"
   ]
  },
  {
   "cell_type": "markdown",
   "metadata": {},
   "source": [
    "从2011-2015年的盒图和直方图可以看出，大多数的案件都能很快的解决，少数案件处理花费的时间长。从盒图得出，2011年，案件解决时间超过290分钟的点为离群点；2012年，案件解决时间超过335分钟的点为离群点；2013年，案件解决时间超过385分钟的点为离群点；2014年，案件解决时间超过394分钟的点为离群点；2015年，案件解决时间超过371分钟的点为离群点；2013年，案件解决时间超过399分钟的点为离群点。总的趋势是案件解决时间逐年上升。"
   ]
  },
  {
   "cell_type": "markdown",
   "metadata": {},
   "source": [
    "**缺失值处理**\n",
    "\n",
    "针对缺失项，可以进行以下几种处理：\n",
    "\n",
    "- 删除缺失项\n",
    "  \n",
    "上述分析即建立在剔除缺失项的基础上\n",
    "\n",
    "- 选择最高频率的值代替缺失值\n",
    "\n",
    "- 利用数据对象的相似性"
   ]
  },
  {
   "cell_type": "code",
   "execution_count": 29,
   "metadata": {},
   "outputs": [
    {
     "data": {
      "text/plain": [
       "0       9739\n",
       "1       5208\n",
       "2       3334\n",
       "3       2599\n",
       "4       1928\n",
       "        ... \n",
       "1147       1\n",
       "1275       1\n",
       "1195       1\n",
       "1066       1\n",
       "1407       1\n",
       "Length: 1405, dtype: int64"
      ]
     },
     "execution_count": 29,
     "metadata": {},
     "output_type": "execute_result"
    }
   ],
   "source": [
    "# 2011\n",
    "pd.value_counts(helper.data[0])"
   ]
  },
  {
   "cell_type": "code",
   "execution_count": 30,
   "metadata": {},
   "outputs": [
    {
     "data": {
      "image/png": "[encoded data removed]",
      "text/plain": [
       "<Figure size 1152x288 with 1 Axes>"
      ]
     },
     "metadata": {
      "needs_background": "light"
     },
     "output_type": "display_data"
    }
   ],
   "source": [
    "# 用最高频率的值填补缺失值\n",
    "helper.data[0] = helper.data[0] + 6 * [0]\n",
    "# 处理后的频数分布\n",
    "helper.normal_hist(0,16,4,'time interval(min)','quantity')"
   ]
  },
  {
   "cell_type": "code",
   "execution_count": 31,
   "metadata": {},
   "outputs": [
    {
     "data": {
      "text/plain": [
       "([153870, 153890, 153903, 153906, 153908, 153911],\n",
       " [array(['OP', '2011-11-05T23:50:42.000', '47TH EMBARCADERO WEST ', '1',\n",
       "         '01X', 2, '415', 'DISTURBANCE-DRINKERS', 'LOP111105000928', ''],\n",
       "        dtype=object),\n",
       "  array(['OP', '2011-11-06T00:51:23.000', '47TH OAK GROVE AV', '1', '12Y',\n",
       "         2, 'SECCK', 'SECURITY CHECK', 'LOP111106000032', ''], dtype=object),\n",
       "  array(['OP', '2011-11-06T01:23:47.000', '47TH AV&SANFORD ST ', '2', '35Y',\n",
       "         1, '949', 'SUSPICIOUS VEHICLE', 'LOP111106000048', ''],\n",
       "        dtype=object),\n",
       "  array(['OP', '2011-11-06T01:34:32.000', '47TH GRAND AV ', '1', '14Y', 1,\n",
       "         '242', 'BATTERY', 'LOP111106000050', ''], dtype=object),\n",
       "  array(['OP', '2011-11-06T01:36:53.000', '47TH ST&WOOD ST ', '1', '02Y', 1,\n",
       "         '5150', 'MENTALLY ILL', 'LOP111106000052', ''], dtype=object),\n",
       "  array(['OP', '2011-11-06T01:56:45.000', '47TH ST&BROADWAY  ', '1', '08X',\n",
       "         2, 'SECCK', 'SECURITY CHECK', 'LOP111106000056', ''], dtype=object)])"
      ]
     },
     "execution_count": 31,
     "metadata": {},
     "output_type": "execute_result"
    }
   ],
   "source": [
    "# 利用数据对象的相似性\n",
    "crime_helper.get_row_index(0, 'Closed Time', '')"
   ]
  },
  {
   "cell_type": "markdown",
   "metadata": {},
   "source": [
    "以2011年的数据为例，首先查找出缺失对象的案件类型，分别为DISTURBANCE-DRINKERS，SECURITY CHECK，SUSPICIOUS VEHICLE，BATTERY，MENTALLY ILL，SECURITY CHECK。\n",
    "然后分别统计这些事件类型的案件处理时间，分别求得该类型下案件的平均处理时间，用该时间分别填补对应类型的缺失项值。"
   ]
  },
  {
   "cell_type": "code",
   "execution_count": 34,
   "metadata": {},
   "outputs": [],
   "source": [
    "# 按类型计算其它数据对象的案件处理时间均值\n",
    "def get_type_mean(file_index,col,value):\n",
    "    index,lst=crime_helper.get_row_index(file_index, col,value)\n",
    "    sum = 0\n",
    "    cnt = 0\n",
    "    for i in lst:\n",
    "        if i[9] != '':\n",
    "            sum += int((str_to_datetime(i[9])-str_to_datetime(i[1])).seconds/60)\n",
    "            cnt += 1\n",
    "    return int(sum/cnt)"
   ]
  },
  {
   "cell_type": "code",
   "execution_count": 35,
   "metadata": {},
   "outputs": [
    {
     "data": {
      "text/plain": [
       "108"
      ]
     },
     "execution_count": 35,
     "metadata": {},
     "output_type": "execute_result"
    }
   ],
   "source": [
    "get_type_mean(0,'Incident Type Description','DISTURBANCE-DRINKERS')"
   ]
  },
  {
   "cell_type": "code",
   "execution_count": 36,
   "metadata": {},
   "outputs": [],
   "source": [
    "helper.generate_new_col('Create Time','Closed Time',time_interval)"
   ]
  },
  {
   "cell_type": "code",
   "execution_count": 37,
   "metadata": {},
   "outputs": [],
   "source": [
    "helper.data[0].append(108)"
   ]
  },
  {
   "cell_type": "code",
   "execution_count": 38,
   "metadata": {},
   "outputs": [
    {
     "data": {
      "text/plain": [
       "62"
      ]
     },
     "execution_count": 38,
     "metadata": {},
     "output_type": "execute_result"
    }
   ],
   "source": [
    "get_type_mean(0,'Incident Type Description','SECURITY CHECK')"
   ]
  },
  {
   "cell_type": "code",
   "execution_count": 39,
   "metadata": {},
   "outputs": [],
   "source": [
    "helper.data[0].append(62)"
   ]
  },
  {
   "cell_type": "code",
   "execution_count": 40,
   "metadata": {},
   "outputs": [
    {
     "data": {
      "text/plain": [
       "98"
      ]
     },
     "execution_count": 40,
     "metadata": {},
     "output_type": "execute_result"
    }
   ],
   "source": [
    "get_type_mean(0,'Incident Type Description','SUSPICIOUS VEHICLE')"
   ]
  },
  {
   "cell_type": "code",
   "execution_count": 41,
   "metadata": {},
   "outputs": [],
   "source": [
    "helper.data[0].append(98)"
   ]
  },
  {
   "cell_type": "code",
   "execution_count": 42,
   "metadata": {},
   "outputs": [
    {
     "data": {
      "text/plain": [
       "99"
      ]
     },
     "execution_count": 42,
     "metadata": {},
     "output_type": "execute_result"
    }
   ],
   "source": [
    "get_type_mean(0,'Incident Type Description','BATTERY')"
   ]
  },
  {
   "cell_type": "code",
   "execution_count": 43,
   "metadata": {},
   "outputs": [],
   "source": [
    "helper.data[0].append(99)"
   ]
  },
  {
   "cell_type": "code",
   "execution_count": 44,
   "metadata": {},
   "outputs": [
    {
     "data": {
      "text/plain": [
       "103"
      ]
     },
     "execution_count": 44,
     "metadata": {},
     "output_type": "execute_result"
    }
   ],
   "source": [
    "get_type_mean(0,'Incident Type Description','MENTALLY ILL')"
   ]
  },
  {
   "cell_type": "code",
   "execution_count": 45,
   "metadata": {},
   "outputs": [],
   "source": [
    "helper.data[0].append(103)"
   ]
  },
  {
   "cell_type": "code",
   "execution_count": 46,
   "metadata": {},
   "outputs": [
    {
     "data": {
      "text/plain": [
       "62"
      ]
     },
     "execution_count": 46,
     "metadata": {},
     "output_type": "execute_result"
    }
   ],
   "source": [
    "get_type_mean(0,'Incident Type Description','SECURITY CHECK')"
   ]
  },
  {
   "cell_type": "code",
   "execution_count": 47,
   "metadata": {},
   "outputs": [],
   "source": [
    "helper.data[0].append(62)"
   ]
  },
  {
   "cell_type": "code",
   "execution_count": 48,
   "metadata": {},
   "outputs": [
    {
     "data": {
      "image/png": "[encoded data removed]",
      "text/plain": [
       "<Figure size 1152x288 with 1 Axes>"
      ]
     },
     "metadata": {
      "needs_background": "light"
     },
     "output_type": "display_data"
    }
   ],
   "source": [
    "# 处理后案件处理时间的频数分布图\n",
    "helper.normal_hist(0,16,4,'time interval(min)','quantity')"
   ]
  },
  {
   "cell_type": "markdown",
   "metadata": {},
   "source": [
    "### 3 案件发生地点Location(有缺失值)\n",
    "\n",
    "**频数统计**"
   ]
  },
  {
   "cell_type": "code",
   "execution_count": 49,
   "metadata": {},
   "outputs": [],
   "source": [
    "# 由于2012与2014的Location数据格式与其它文件不统一，要先对其进行处理\n",
    "import re\n",
    "def reformat_file(index):\n",
    "    data = crime_helper.load_data(crime_helper.root,crime_helper.file_lst[index])\n",
    "    ans = []\n",
    "    p = r'^.*address\": \"(.*)\", \"city\"'\n",
    "    for i in data['Location 1']:\n",
    "        if i == '':\n",
    "            ans.append('')\n",
    "        else:\n",
    "            ans.append(re.findall(p,i)[0])\n",
    "    data = data.drop('Location 1',axis=1)\n",
    "    data['Location'] = ans\n",
    "    data.to_csv(crime_helper.root + '/' + crime_helper.file_lst[index],index = False)"
   ]
  },
  {
   "cell_type": "code",
   "execution_count": 50,
   "metadata": {},
   "outputs": [],
   "source": [
    "reformat_file(1)"
   ]
  },
  {
   "cell_type": "code",
   "execution_count": 52,
   "metadata": {},
   "outputs": [],
   "source": [
    "reformat_file(3)"
   ]
  },
  {
   "cell_type": "code",
   "execution_count": 61,
   "metadata": {},
   "outputs": [],
   "source": [
    "def rename_col(index,col,new_col):\n",
    "    data = crime_helper.load_data(crime_helper.root,crime_helper.file_lst[index])\n",
    "    data.rename(columns={col:new_col},inplace=True)\n",
    "    data.to_csv(crime_helper.root + '/' + crime_helper.file_lst[index],index = False)"
   ]
  },
  {
   "cell_type": "code",
   "execution_count": 62,
   "metadata": {},
   "outputs": [],
   "source": [
    "rename_col(2,'Location ','Location')"
   ]
  },
  {
   "cell_type": "code",
   "execution_count": 63,
   "metadata": {},
   "outputs": [],
   "source": [
    "helper.grab_col('Location')"
   ]
  },
  {
   "cell_type": "code",
   "execution_count": null,
   "metadata": {},
   "outputs": [],
   "source": []
  }
 ],
 "metadata": {
  "kernelspec": {
   "display_name": "Python 3",
   "language": "python",
   "name": "python3"
  },
  "language_info": {
   "codemirror_mode": {
    "name": "ipython",
    "version": 3
   },
   "file_extension": ".py",
   "mimetype": "text/x-python",
   "name": "python",
   "nbconvert_exporter": "python",
   "pygments_lexer": "ipython3",
   "version": "3.7.6"
  }
 },
 "nbformat": 4,
 "nbformat_minor": 2
}
